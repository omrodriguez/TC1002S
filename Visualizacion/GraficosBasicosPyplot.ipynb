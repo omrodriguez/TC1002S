{
 "cells": [
  {
   "cell_type": "code",
   "execution_count": null,
   "metadata": {},
   "outputs": [],
   "source": [
    "#Se impporta el módulo pyplot con la referelncia plt\n",
    "from matplotlib import pyplot as plt"
   ]
  },
  {
   "cell_type": "code",
   "execution_count": null,
   "metadata": {},
   "outputs": [],
   "source": [
    "#Se definen los datos a graficar\n",
    "years = [1950, 1960, 1970, 1980, 1990, 2000, 2010]\n",
    "gdp = [300.2, 543.3, 1075.9, 2862.5, 5979.6, 10289.7, 14958.3]"
   ]
  },
  {
   "cell_type": "code",
   "execution_count": null,
   "metadata": {},
   "outputs": [],
   "source": [
    "#Se crea un gráfico de línea, con los años en el eje x, y gdp en el y\n",
    "plt.plot(years, gdp, color='green', marker='o', linestyle='solid')\n",
    "\n",
    "# Se le agrega un título al gráfico\n",
    "plt.title(\"Nominal GDP\")\n",
    "\n",
    "#Se agrega una etiqueta al eje Y\n",
    "plt.ylabel(\"Billones de $\")\n",
    "plt.show()"
   ]
  },
  {
   "cell_type": "code",
   "execution_count": null,
   "metadata": {
    "scrolled": true
   },
   "outputs": [],
   "source": [
    "# Definir los datos a graficar\n",
    "movies = [\"Annie Hall\", \"Ben-Hur\", \"Casablanca\", \"Gandhi\", \"West Side Story\"]\n",
    "num_oscars = [5, 11, 3, 8, 10]\n",
    "\n",
    "# Gráfica de barras con cordenadas x [0, 1, 2, 3, 4] a la izquierda,\n",
    "# y alturas [num_oscars]\n",
    "plt.bar(range(len(movies)), num_oscars)\n",
    "\n",
    "plt.title(\"Película favorita\")     # Título del gráfico\n",
    "plt.ylabel(\"# de premios de la academia\")   # Etiqueta eje y\n",
    "\n",
    "# Etiqueta eje x con nombres de películas centradas en las barras\n",
    "plt.xticks(range(len(movies)), movies)\n",
    "\n",
    "plt.show()"
   ]
  },
  {
   "cell_type": "code",
   "execution_count": null,
   "metadata": {},
   "outputs": [],
   "source": [
    "from collections import Counter\n",
    "# Definición de los datos a graficar\n",
    "grades = [83, 95, 91, 87, 70, 0, 85, 82, 100, 67, 73, 77, 0]\n",
    "\n",
    "# Se agrupan los datos por deciles, poninedo el 100 junto con los 90s\n",
    "histogram = Counter(min(grade // 10 * 10, 90) for grade in grades)\n",
    "\n",
    "plt.bar([x + 5 for x in histogram.keys()],  # Desplazar por 5 las barras a la derecha\n",
    "        histogram.values(),                 # Darle la altura correcta a cada barra\n",
    "        10,                                 # Darle un ancho de 10 a cada barra\n",
    "        edgecolor=(0, 0, 0))                # Líneas negras para cada barra\n",
    "\n",
    "plt.axis([-5, 105, 0, 5])                  # Eje x desde -5 a 105,\n",
    "                                           # Eje y desde 0 a 5\n",
    "\n",
    "plt.xticks([10 * i for i in range(11)])    # Etiquetas de X de 0, 10, ..., 100\n",
    "plt.xlabel(\"Decil\")                        # Etiqueta del eje x\n",
    "plt.ylabel(\"# de Estudiantes\")             # Etiqueta del eje y\n",
    "plt.title(\"Distribución de calificaciones\")# Título del histograma\n",
    "plt.show()"
   ]
  },
  {
   "cell_type": "code",
   "execution_count": null,
   "metadata": {},
   "outputs": [],
   "source": [
    "# Definición de los datos\n",
    "variance     = [1, 2, 4, 8, 16, 32, 64, 128, 256]\n",
    "bias_squared = [256, 128, 64, 32, 16, 8, 4, 2, 1]\n",
    "total_error  = [x + y for x, y in zip(variance, bias_squared)]\n",
    "xs = [i for i, _ in enumerate(variance)]\n",
    "\n",
    "# Se pueden realizar múltiples llamadas a la función plot\n",
    "# para mostrar varias series de datos en el mismo gráfico\n",
    "plt.plot(xs, variance,     'g-',  label='varianza')    # Línea sólida verde\n",
    "plt.plot(xs, bias_squared, 'r-.', label='sesgo^2')     # Lineas y puntos roja\n",
    "plt.plot(xs, total_error,  'b:',  label='error total') # Línea punteada azul\n",
    "\n",
    "# loc=9 significa \"top center\"\n",
    "plt.legend(loc=9)\n",
    "plt.xlabel(\"Modelo de complejidad\")\n",
    "plt.xticks([])\n",
    "plt.title(\"Compensación sesgo-varianza\")\n",
    "plt.show()"
   ]
  },
  {
   "cell_type": "code",
   "execution_count": null,
   "metadata": {},
   "outputs": [],
   "source": [
    "# Definir los datos\n",
    "friends = [ 70,  65,  72,  63,  71,  64,  60,  64,  67]\n",
    "minutes = [175, 170, 205, 120, 220, 130, 105, 145, 190]\n",
    "labels =  ['a', 'b', 'c', 'd', 'e', 'f', 'g', 'h', 'i']\n",
    "\n",
    "# Graficar el diagrama de dispersión\n",
    "plt.scatter(friends, minutes)\n",
    "\n",
    "# Etiquetar cada punto\n",
    "for label, friend_count, minute_count in zip(labels, friends, minutes):\n",
    "    plt.annotate(label,\n",
    "        xy=(friend_count, minute_count), # Poner la etiqueta en el punto\n",
    "        xytext=(5, -5),                  # con una pequeña compensación\n",
    "        textcoords='offset points')       \n",
    "\n",
    "plt.title(\"Minutos diarios vs. Número de amigos\")\n",
    "plt.xlabel(\"Numero de amigos\")\n",
    "plt.ylabel(\"Minutos diarios dedicados al sitio\")\n",
    "plt.show()"
   ]
  },
  {
   "cell_type": "code",
   "execution_count": null,
   "metadata": {},
   "outputs": [],
   "source": [
    "#Gráficos de cajs y bigotes\n",
    "fig = plt.figure(figsize=(10, 7))\n",
    "# Se genera el diagrama enviando los datos\n",
    "plt.boxplot(friends) \n",
    "# Se muestra el diagrama\n",
    "plt.show()"
   ]
  },
  {
   "cell_type": "code",
   "execution_count": null,
   "metadata": {},
   "outputs": [],
   "source": [
    "# Conjunto de varias series de datos\n",
    "datos =[friends, minutes, grades]\n",
    "fig = plt.figure(figsize=(10,7))\n",
    "bp = plt.boxplot(datos)\n",
    "plt.show()"
   ]
  }
 ],
 "metadata": {
  "kernelspec": {
   "display_name": "Python 3",
   "language": "python",
   "name": "python3"
  },
  "language_info": {
   "codemirror_mode": {
    "name": "ipython",
    "version": 3
   },
   "file_extension": ".py",
   "mimetype": "text/x-python",
   "name": "python",
   "nbconvert_exporter": "python",
   "pygments_lexer": "ipython3",
   "version": "3.8.5"
  }
 },
 "nbformat": 4,
 "nbformat_minor": 4
}
